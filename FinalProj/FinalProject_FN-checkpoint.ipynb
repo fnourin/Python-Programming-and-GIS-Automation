{
 "cells": [
  {
   "cell_type": "code",
   "execution_count": 15,
   "id": "8f65103f",
   "metadata": {},
   "outputs": [],
   "source": [
    "# !pip install geemap\n",
    "#conda activate gee\n",
    "#jupyter notebook\n",
    "\n",
    "import ee\n",
    "import geemap\n",
    "import os"
   ]
  },
  {
   "cell_type": "code",
   "execution_count": 16,
   "id": "e98f39f3",
   "metadata": {},
   "outputs": [],
   "source": [
    "directory = 'D:/CRP556/FinalProj'"
   ]
  },
  {
   "cell_type": "code",
   "execution_count": 17,
   "id": "6a384c9f",
   "metadata": {},
   "outputs": [
    {
     "data": {
      "application/vnd.jupyter.widget-view+json": {
       "model_id": "a7916fa535aa41419dfcdcc5deb0263e",
       "version_major": 2,
       "version_minor": 0
      },
      "text/plain": [
       "Map(center=[40, -100], controls=(WidgetControl(options=['position', 'transparent_bg'], widget=HBox(children=(T…"
      ]
     },
     "metadata": {},
     "output_type": "display_data"
    }
   ],
   "source": [
    "m = geemap.Map()\n",
    "m"
   ]
  },
  {
   "cell_type": "code",
   "execution_count": 23,
   "id": "4baec9c7",
   "metadata": {},
   "outputs": [
    {
     "data": {
      "application/vnd.jupyter.widget-view+json": {
       "model_id": "28b460397d06403a9e70367cb7a42974",
       "version_major": 2,
       "version_minor": 0
      },
      "text/plain": [
       "Map(center=[42, -94], controls=(WidgetControl(options=['position', 'transparent_bg'], widget=HBox(children=(To…"
      ]
     },
     "metadata": {},
     "output_type": "display_data"
    }
   ],
   "source": [
    "Map = geemap.Map(center = (42, -94), zoom = 7)\n",
    "##adding basemaps\n",
    "Map.basemap_demo()\n",
    "Map"
   ]
  },
  {
   "cell_type": "code",
   "execution_count": 24,
   "id": "b4c12398",
   "metadata": {},
   "outputs": [],
   "source": [
    "##Incase geemap.shp_to_ee does not work, on the conde prompt, #activate gee # conda install -c conda-forge pyshp\n",
    "area_path = 'iowa_border.shp'\n",
    "area_shp = os.path.join(directory,area_path)\n",
    "boundary = geemap.shp_to_ee(area_shp)     ##converting the shapefile into earth engine object\n",
    "Map.addLayer(boundary, {}, 'boundary')"
   ]
  },
  {
   "cell_type": "code",
   "execution_count": 25,
   "id": "d81045f9",
   "metadata": {},
   "outputs": [],
   "source": [
    "city_path = 'incorporated_cities_2010.shp'\n",
    "city_shp = os.path.join(directory,city_path)\n",
    "cities = geemap.shp_to_ee(city_shp)     ##converting the shapefile into earth engine object\n",
    "Map.addLayer(cities, {}, 'cities')"
   ]
  },
  {
   "cell_type": "code",
   "execution_count": null,
   "id": "4e8ab912",
   "metadata": {},
   "outputs": [],
   "source": [
    "# Add Earth Engine dataset\n",
    "dem = ee.Image('USGS/SRTMGL1_003')\n",
    "landcover = ee.Image(\"ESA/GLOBCOVER_L4_200901_200912_V2_3\").select('landcover')\n",
    "landsat7 = ee.Image('LE7_TOA_5YEAR/1999_2003')\n",
    "states = ee.FeatureCollection(\"TIGER/2018/States\")"
   ]
  },
  {
   "cell_type": "code",
   "execution_count": null,
   "id": "11113427",
   "metadata": {},
   "outputs": [],
   "source": [
    "dem_vis = {\n",
    "'min': 0,\n",
    "'max': 4000,\n",
    "'palette': ['006633', 'E5FFCC', '662A00', 'D8D8D8', 'F5F5F5']}\n",
    "\n",
    "landsat_vis = {\n",
    "    'min': 20,\n",
    "    'max': 200,\n",
    "    'bands': ['B4', 'B3', 'B2']\n",
    "}"
   ]
  },
  {
   "cell_type": "code",
   "execution_count": null,
   "id": "8f901754",
   "metadata": {},
   "outputs": [],
   "source": [
    "Map.addLayer(dem, dem_vis, 'SRTM DEM', True, 0.5)\n",
    "Map.addLayer(landcover, {}, 'Land cover')\n",
    "Map.addLayer(landsat7, landsat_vis, 'Landsat 7')\n",
    "Map.addLayer(states, {}, \"US States\")"
   ]
  },
  {
   "cell_type": "code",
   "execution_count": null,
   "id": "ecae2859",
   "metadata": {},
   "outputs": [],
   "source": []
  }
 ],
 "metadata": {
  "kernelspec": {
   "display_name": "Python 3",
   "language": "python",
   "name": "python3"
  },
  "language_info": {
   "codemirror_mode": {
    "name": "ipython",
    "version": 3
   },
   "file_extension": ".py",
   "mimetype": "text/x-python",
   "name": "python",
   "nbconvert_exporter": "python",
   "pygments_lexer": "ipython3",
   "version": "3.7.9"
  }
 },
 "nbformat": 4,
 "nbformat_minor": 5
}
